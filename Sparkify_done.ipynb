{
  "cells": [
    {
      "cell_type": "code",
      "execution_count": 2,
      "metadata": {
        "id": "TwDE9HZZHK39"
      },
      "outputs": [],
      "source": [
        "#!/usr/bin/env python\n",
        "# coding: utf-8"
      ]
    },
    {
      "cell_type": "code",
      "source": [
        "from google.colab import drive\n",
        "drive.mount('/content/drive')"
      ],
      "metadata": {
        "colab": {
          "base_uri": "https://localhost:8080/"
        },
        "id": "zGL0Q-QBPJSe",
        "outputId": "765d8c15-4636-49d9-9c59-70eb1907844f"
      },
      "execution_count": 3,
      "outputs": [
        {
          "output_type": "stream",
          "name": "stdout",
          "text": [
            "Drive already mounted at /content/drive; to attempt to forcibly remount, call drive.mount(\"/content/drive\", force_remount=True).\n"
          ]
        }
      ]
    },
    {
      "cell_type": "markdown",
      "metadata": {
        "id": "1Z5ZzMVdHK4G"
      },
      "source": [
        "# Sparkify Project Workspace<br>\n",
        "This workspace contains a tiny subset (128MB) of the full dataset available (12GB). Feel free to use this workspace to build your project, or to explore a smaller subset with Spark before deploying your cluster on the cloud. Instructions for setting up your Spark cluster is included in the last lesson of the Extracurricular Spark Course content.<br>\n",
        "<br>\n",
        "You can follow the steps below to guide your data analysis and model building portion of this project."
      ]
    },
    {
      "cell_type": "markdown",
      "metadata": {
        "id": "bTPVtIhaHK4N"
      },
      "source": [
        "**install libraries**"
      ]
    },
    {
      "cell_type": "code",
      "source": [
        "# !pip uninstall pyspark\n",
        "!pip install pyspark==3.0.0"
      ],
      "metadata": {
        "colab": {
          "base_uri": "https://localhost:8080/"
        },
        "id": "U2aYxaxWPZkK",
        "outputId": "83ea9947-8342-4746-ea5a-efb40ad1b8a5"
      },
      "execution_count": 4,
      "outputs": [
        {
          "output_type": "stream",
          "name": "stdout",
          "text": [
            "Looking in indexes: https://pypi.org/simple, https://us-python.pkg.dev/colab-wheels/public/simple/\n",
            "Collecting pyspark==3.0.0\n",
            "  Downloading pyspark-3.0.0.tar.gz (204.7 MB)\n",
            "\u001b[K     |████████████████████████████████| 204.7 MB 22 kB/s \n",
            "\u001b[?25hCollecting py4j==0.10.9\n",
            "  Downloading py4j-0.10.9-py2.py3-none-any.whl (198 kB)\n",
            "\u001b[K     |████████████████████████████████| 198 kB 55.4 MB/s \n",
            "\u001b[?25hBuilding wheels for collected packages: pyspark\n",
            "  Building wheel for pyspark (setup.py) ... \u001b[?25l\u001b[?25hdone\n",
            "  Created wheel for pyspark: filename=pyspark-3.0.0-py2.py3-none-any.whl size=205044182 sha256=a0ffc446ea0b137121ebdcb9b5563edc179697c5bc56b54f06ed1b52c199a303\n",
            "  Stored in directory: /root/.cache/pip/wheels/4e/c5/36/aef1bb711963a619063119cc032176106827a129c0be20e301\n",
            "Successfully built pyspark\n",
            "Installing collected packages: py4j, pyspark\n",
            "Successfully installed py4j-0.10.9 pyspark-3.0.0\n"
          ]
        }
      ]
    },
    {
      "cell_type": "markdown",
      "source": [
        "**Import libraries**"
      ],
      "metadata": {
        "id": "YvqksuUZu0i0"
      }
    },
    {
      "cell_type": "code",
      "source": [
        "# import libraries\n",
        "from pyspark.sql import SparkSession      \n",
        "import pyspark.sql.functions as psqf\n",
        "import pyspark.sql.types as psqt\n",
        "from pyspark.ml.feature import VectorAssembler, StandardScaler\\\n",
        "\n",
        "from pyspark.ml.classification import RandomForestClassifier\n",
        "from pyspark.mllib.util import MLUtils\n",
        "\n",
        "from pyspark.mllib.evaluation import BinaryClassificationMetrics\n",
        "from pyspark.ml.evaluation import MulticlassClassificationEvaluator\n",
        "from pyspark.ml.tuning import CrossValidator, ParamGridBuilder\n",
        "from pyspark.ml import Pipeline\n",
        "from pyspark.ml.feature import IndexToString, StringIndexer, VectorIndexer\n",
        "\n",
        "import datetime\n",
        "import numpy as np\n",
        "import pandas as pd\n",
        "\n",
        "import matplotlib.pyplot as plt\n",
        "%matplotlib inline"
      ],
      "metadata": {
        "id": "tHqRBgZ7KVNM"
      },
      "execution_count": 5,
      "outputs": []
    },
    {
      "cell_type": "markdown",
      "metadata": {
        "id": "R10Vl7rHHK4R"
      },
      "source": [
        "**create a Spark session**"
      ]
    },
    {
      "cell_type": "code",
      "source": [
        "# create a Spark session\n",
        "spark = SparkSession.builder.appName(\"customer-churn data pipeline\").getOrCreate()"
      ],
      "metadata": {
        "id": "Nj-ixIg3KXpj"
      },
      "execution_count": 6,
      "outputs": []
    },
    {
      "cell_type": "markdown",
      "metadata": {
        "id": "ztWl-CTLHK4S"
      },
      "source": [
        "# Load and Clean Dataset<br>\n",
        "In this workspace, the mini-dataset file is `mini_sparkify_event_data.json`. Load and clean the dataset, checking for invalid or missing data - for example, records without userids or sessionids. "
      ]
    },
    {
      "cell_type": "code",
      "source": [
        "#load json file using .read.json function \n",
        "data_path = \"/content/drive/MyDrive/new_project/mini_sparkify_event_data.json\"\n",
        "user_event = spark.read.json(data_path)\n",
        "df = user_event"
      ],
      "metadata": {
        "id": "83U_3zBZKb3v"
      },
      "execution_count": 7,
      "outputs": []
    },
    {
      "cell_type": "markdown",
      "source": [
        "**Dataset**"
      ],
      "metadata": {
        "id": "M1fFCOJD3eXS"
      }
    },
    {
      "cell_type": "code",
      "source": [
        "#print 1st line of json file.\n",
        "user_event.show(5)"
      ],
      "metadata": {
        "colab": {
          "base_uri": "https://localhost:8080/"
        },
        "id": "nZFcA1x9KhV0",
        "outputId": "9c84aff5-b2f6-4029-e4c8-1a6f21728fcb"
      },
      "execution_count": 8,
      "outputs": [
        {
          "output_type": "stream",
          "name": "stdout",
          "text": [
            "+--------------+---------+---------+------+-------------+--------+---------+-----+---------------+------+--------+-------------+---------+---------+------+-------------+--------------------+------+\n",
            "|        artist|     auth|firstName|gender|itemInSession|lastName|   length|level|       location|method|    page| registration|sessionId|     song|status|           ts|           userAgent|userId|\n",
            "+--------------+---------+---------+------+-------------+--------+---------+-----+---------------+------+--------+-------------+---------+---------+------+-------------+--------------------+------+\n",
            "|Martha Tilston|Logged In|    Colin|     M|           50| Freeman|277.89016| paid|Bakersfield, CA|   PUT|NextSong|1538173362000|       29|Rockpools|   200|1538352117000|Mozilla/5.0 (Wind...|    30|\n",
            "+--------------+---------+---------+------+-------------+--------+---------+-----+---------------+------+--------+-------------+---------+---------+------+-------------+--------------------+------+\n",
            "only showing top 1 row\n",
            "\n"
          ]
        }
      ]
    },
    {
      "cell_type": "markdown",
      "source": [
        "**shape of dataset**"
      ],
      "metadata": {
        "id": "8stORDfE3hNN"
      }
    },
    {
      "cell_type": "code",
      "source": [
        "print(user_event.count(), len(user_event.columns))"
      ],
      "metadata": {
        "colab": {
          "base_uri": "https://localhost:8080/"
        },
        "id": "dhFVjv_WKuS7",
        "outputId": "5c9b28f7-ea4e-44b8-ac46-2aca6d8332dd"
      },
      "execution_count": 9,
      "outputs": [
        {
          "output_type": "stream",
          "name": "stdout",
          "text": [
            "286500 18\n"
          ]
        }
      ]
    },
    {
      "cell_type": "markdown",
      "source": [
        "**Schema of dataset**"
      ],
      "metadata": {
        "id": "ccr71wfk3lYb"
      }
    },
    {
      "cell_type": "code",
      "source": [
        "user_event.printSchema()"
      ],
      "metadata": {
        "colab": {
          "base_uri": "https://localhost:8080/"
        },
        "id": "CqvGfnmuKvxB",
        "outputId": "09bb5881-b5bb-4cc7-e05b-25d4e2e7ac14"
      },
      "execution_count": 10,
      "outputs": [
        {
          "output_type": "stream",
          "name": "stdout",
          "text": [
            "root\n",
            " |-- artist: string (nullable = true)\n",
            " |-- auth: string (nullable = true)\n",
            " |-- firstName: string (nullable = true)\n",
            " |-- gender: string (nullable = true)\n",
            " |-- itemInSession: long (nullable = true)\n",
            " |-- lastName: string (nullable = true)\n",
            " |-- length: double (nullable = true)\n",
            " |-- level: string (nullable = true)\n",
            " |-- location: string (nullable = true)\n",
            " |-- method: string (nullable = true)\n",
            " |-- page: string (nullable = true)\n",
            " |-- registration: long (nullable = true)\n",
            " |-- sessionId: long (nullable = true)\n",
            " |-- song: string (nullable = true)\n",
            " |-- status: long (nullable = true)\n",
            " |-- ts: long (nullable = true)\n",
            " |-- userAgent: string (nullable = true)\n",
            " |-- userId: string (nullable = true)\n",
            "\n"
          ]
        }
      ]
    },
    {
      "cell_type": "markdown",
      "source": [
        "**Count missing values**"
      ],
      "metadata": {
        "id": "kXKEDBUT3psD"
      }
    },
    {
      "cell_type": "code",
      "source": [
        "#count null values for each column\n",
        "df_nulls = user_event.select([psqf.count(psqf.when(psqf.isnull(c), c)).alias(c) for c in user_event.columns])\n",
        "df_nulls.show()"
      ],
      "metadata": {
        "colab": {
          "base_uri": "https://localhost:8080/"
        },
        "id": "t9BxQh9eKyVb",
        "outputId": "2aac37c4-57e8-4526-923d-c8e860880a7a"
      },
      "execution_count": 11,
      "outputs": [
        {
          "output_type": "stream",
          "name": "stdout",
          "text": [
            "+------+----+---------+------+-------------+--------+------+-----+--------+------+----+------------+---------+-----+------+---+---------+------+\n",
            "|artist|auth|firstName|gender|itemInSession|lastName|length|level|location|method|page|registration|sessionId| song|status| ts|userAgent|userId|\n",
            "+------+----+---------+------+-------------+--------+------+-----+--------+------+----+------------+---------+-----+------+---+---------+------+\n",
            "| 58392|   0|     8346|  8346|            0|    8346| 58392|    0|    8346|     0|   0|        8346|        0|58392|     0|  0|     8346|     0|\n",
            "+------+----+---------+------+-------------+--------+------+-----+--------+------+----+------------+---------+-----+------+---+---------+------+\n",
            "\n"
          ]
        }
      ]
    },
    {
      "cell_type": "code",
      "source": [
        "# let's make sure page column doesn't have nulls ( as we'll define churn on 'page' column). Do for userId too.\n",
        "df_nulls.select('userId', 'page').show()"
      ],
      "metadata": {
        "colab": {
          "base_uri": "https://localhost:8080/"
        },
        "id": "gdzSl0lVLjG2",
        "outputId": "6e085a9b-c9d8-4ad9-b6e4-4f11139b1353"
      },
      "execution_count": 12,
      "outputs": [
        {
          "output_type": "stream",
          "name": "stdout",
          "text": [
            "+------+----+\n",
            "|userId|page|\n",
            "+------+----+\n",
            "|     0|   0|\n",
            "+------+----+\n",
            "\n"
          ]
        }
      ]
    },
    {
      "cell_type": "markdown",
      "source": [
        "**There are two levels**"
      ],
      "metadata": {
        "id": "ZYxwyLQM37Wu"
      }
    },
    {
      "cell_type": "code",
      "source": [
        "user_event.select('level').distinct().show()"
      ],
      "metadata": {
        "colab": {
          "base_uri": "https://localhost:8080/"
        },
        "id": "vLOx1qdrLl95",
        "outputId": "d3440385-c579-4772-83ba-a1bb76e29d91"
      },
      "execution_count": 13,
      "outputs": [
        {
          "output_type": "stream",
          "name": "stdout",
          "text": [
            "+-----+\n",
            "|level|\n",
            "+-----+\n",
            "| free|\n",
            "| paid|\n",
            "+-----+\n",
            "\n"
          ]
        }
      ]
    },
    {
      "cell_type": "markdown",
      "source": [
        "**Value counts of level**"
      ],
      "metadata": {
        "id": "2wr8NmCW4CzP"
      }
    },
    {
      "cell_type": "code",
      "source": [
        "level_counts= user_event.groupby('level').agg({'level':'count'}).withColumnRenamed(\"count(level)\", \"level_count\")\n",
        "level_counts.show()"
      ],
      "metadata": {
        "colab": {
          "base_uri": "https://localhost:8080/"
        },
        "id": "kZR4LfJwLomU",
        "outputId": "8b6b5034-f285-427d-a7fb-c24ba31fbbd8"
      },
      "execution_count": 14,
      "outputs": [
        {
          "output_type": "stream",
          "name": "stdout",
          "text": [
            "+-----+-----------+\n",
            "|level|level_count|\n",
            "+-----+-----------+\n",
            "| free|      58338|\n",
            "| paid|     228162|\n",
            "+-----+-----------+\n",
            "\n"
          ]
        }
      ]
    },
    {
      "cell_type": "markdown",
      "source": [
        "**Distint page**"
      ],
      "metadata": {
        "id": "HdofVOdN4GGc"
      }
    },
    {
      "cell_type": "code",
      "source": [
        "user_event.select('page').distinct().show()"
      ],
      "metadata": {
        "colab": {
          "base_uri": "https://localhost:8080/"
        },
        "id": "KCdIsToILwmQ",
        "outputId": "4cf6562d-6dd0-45e5-a77a-e80a0a1b6b08"
      },
      "execution_count": 15,
      "outputs": [
        {
          "output_type": "stream",
          "name": "stdout",
          "text": [
            "+--------------------+\n",
            "|                page|\n",
            "+--------------------+\n",
            "|              Cancel|\n",
            "|    Submit Downgrade|\n",
            "|         Thumbs Down|\n",
            "|                Home|\n",
            "|           Downgrade|\n",
            "|         Roll Advert|\n",
            "|              Logout|\n",
            "|       Save Settings|\n",
            "|Cancellation Conf...|\n",
            "|               About|\n",
            "| Submit Registration|\n",
            "|            Settings|\n",
            "|               Login|\n",
            "|            Register|\n",
            "|     Add to Playlist|\n",
            "|          Add Friend|\n",
            "|            NextSong|\n",
            "|           Thumbs Up|\n",
            "|                Help|\n",
            "|             Upgrade|\n",
            "+--------------------+\n",
            "only showing top 20 rows\n",
            "\n"
          ]
        }
      ]
    },
    {
      "cell_type": "markdown",
      "source": [
        "**Value counts of page**"
      ],
      "metadata": {
        "id": "wQo4PXYU4QHD"
      }
    },
    {
      "cell_type": "code",
      "source": [
        "page_counts= user_event.groupby('page').agg({'page':'count'}).withColumnRenamed(\"count(page)\", \"page_count\")\n",
        "page_counts.show()"
      ],
      "metadata": {
        "colab": {
          "base_uri": "https://localhost:8080/"
        },
        "id": "DjhdvWwCLyaM",
        "outputId": "2088b172-4c7c-4183-b995-278addbb97dd"
      },
      "execution_count": 16,
      "outputs": [
        {
          "output_type": "stream",
          "name": "stdout",
          "text": [
            "+--------------------+----------+\n",
            "|                page|page_count|\n",
            "+--------------------+----------+\n",
            "|              Cancel|        52|\n",
            "|    Submit Downgrade|        63|\n",
            "|         Thumbs Down|      2546|\n",
            "|                Home|     14457|\n",
            "|           Downgrade|      2055|\n",
            "|         Roll Advert|      3933|\n",
            "|              Logout|      3226|\n",
            "|       Save Settings|       310|\n",
            "|Cancellation Conf...|        52|\n",
            "|               About|       924|\n",
            "| Submit Registration|         5|\n",
            "|            Settings|      1514|\n",
            "|               Login|      3241|\n",
            "|            Register|        18|\n",
            "|     Add to Playlist|      6526|\n",
            "|          Add Friend|      4277|\n",
            "|            NextSong|    228108|\n",
            "|           Thumbs Up|     12551|\n",
            "|                Help|      1726|\n",
            "|             Upgrade|       499|\n",
            "+--------------------+----------+\n",
            "only showing top 20 rows\n",
            "\n"
          ]
        }
      ]
    },
    {
      "cell_type": "markdown",
      "source": [
        "Let's look at **Cancel** and **Cancellation Confirmation** samples in the dataset"
      ],
      "metadata": {
        "id": "161AmFErL20f"
      }
    },
    {
      "cell_type": "code",
      "source": [
        "cancel_events = user_event.filter(psqf.col('page').isin(['Cancel','Cancellation Confirmation'])).select(['userID','page', 'firstName', 'lastName','ts', 'auth'])\n",
        "cancel_events.show(5, False)"
      ],
      "metadata": {
        "colab": {
          "base_uri": "https://localhost:8080/"
        },
        "id": "DQCheQBBL3hL",
        "outputId": "c1b5d101-2ba9-46aa-a12a-dae4911a9b74"
      },
      "execution_count": 17,
      "outputs": [
        {
          "output_type": "stream",
          "name": "stdout",
          "text": [
            "+------+-------------------------+---------+--------+-------------+---------+\n",
            "|userID|page                     |firstName|lastName|ts           |auth     |\n",
            "+------+-------------------------+---------+--------+-------------+---------+\n",
            "|18    |Cancel                   |Adriel   |Mendoza |1538943740000|Logged In|\n",
            "|18    |Cancellation Confirmation|Adriel   |Mendoza |1538943990000|Cancelled|\n",
            "|32    |Cancel                   |Diego    |Mckee   |1539033031000|Logged In|\n",
            "|32    |Cancellation Confirmation|Diego    |Mckee   |1539033046000|Cancelled|\n",
            "|125   |Cancel                   |Mason    |Hart    |1539318918000|Logged In|\n",
            "+------+-------------------------+---------+--------+-------------+---------+\n",
            "only showing top 5 rows\n",
            "\n"
          ]
        }
      ]
    },
    {
      "cell_type": "code",
      "source": [
        "cancel_reg_ids  = [vv['userID'] for vv in cancel_events.select('userID').collect()]\n",
        "print(len(cancel_reg_ids), len(set(cancel_reg_ids)))"
      ],
      "metadata": {
        "colab": {
          "base_uri": "https://localhost:8080/"
        },
        "id": "HMtoP8qzPB4X",
        "outputId": "a70ba88e-cf65-4218-8ca4-8aed623af699"
      },
      "execution_count": 18,
      "outputs": [
        {
          "output_type": "stream",
          "name": "stdout",
          "text": [
            "104 52\n"
          ]
        }
      ]
    },
    {
      "cell_type": "markdown",
      "metadata": {
        "id": "oWkHyENiHK4W"
      },
      "source": [
        "# Exploratory Data Analysis<br>\n",
        "When you're working with the full dataset, perform EDA by loading a small subset of the data and doing basic manipulations within Spark. In this workspace, you are already provided a small subset of data you can explore.<br>\n",
        "<br>\n",
        "### Define Churn<br>\n",
        "<br>\n",
        "Once you've done some preliminary analysis, create a column `Churn` to use as the label for your model. I suggest using the `Cancellation Confirmation` events to define your churn, which happen for both paid and free users. As a bonus task, you can also look into the `Downgrade` events.<br>\n",
        "<br>\n",
        "### Explore Data<br>\n",
        "Once you've defined churn, perform some exploratory data analysis to observe the behavior for users who stayed vs users who churned. You can start by exploring aggregates on these two groups of users, observing how much of a specific action they experienced per a certain time unit or number of songs played."
      ]
    },
    {
      "cell_type": "markdown",
      "source": [
        "**Define dependent variable**"
      ],
      "metadata": {
        "id": "EBrGvrwG4ZMo"
      }
    },
    {
      "cell_type": "code",
      "source": [
        "churn_event = user_event.groupby('userId').agg(psqf.collect_list('page').alias('pages'))\n",
        "# define 1 as churned, 0 otherwise\n",
        "churn_f = psqf.udf(lambda x: 1 if 'Cancel' in set(x) else 0)\n",
        "churn_event = churn_event.withColumn(\"label\", churn_f(churn_event.pages)).drop('pages')"
      ],
      "metadata": {
        "id": "9FgHEadNOQ4F"
      },
      "execution_count": 19,
      "outputs": []
    },
    {
      "cell_type": "code",
      "source": [
        "churn_event.show(5)"
      ],
      "metadata": {
        "colab": {
          "base_uri": "https://localhost:8080/"
        },
        "id": "pG1ksqjDOTuB",
        "outputId": "767d8dad-bd39-4f5f-80af-781a57576bd7"
      },
      "execution_count": 20,
      "outputs": [
        {
          "output_type": "stream",
          "name": "stdout",
          "text": [
            "+------+-----+\n",
            "|userId|label|\n",
            "+------+-----+\n",
            "|100010|    0|\n",
            "|200002|    0|\n",
            "+------+-----+\n",
            "only showing top 2 rows\n",
            "\n"
          ]
        }
      ]
    },
    {
      "cell_type": "markdown",
      "source": [
        "**Downgraded customers**"
      ],
      "metadata": {
        "id": "n6DPguX64lGp"
      }
    },
    {
      "cell_type": "code",
      "source": [
        "#customer who downgraded\n",
        "downgrade_events = user_event.filter(psqf.col('page').isin(['Downgrade']))\n",
        "downgrade_events.select(['userID','page', 'firstName', 'lastName','ts', 'auth']).show(5, False)"
      ],
      "metadata": {
        "colab": {
          "base_uri": "https://localhost:8080/"
        },
        "id": "k30A3qAcOffL",
        "outputId": "d2db4396-fe65-4f6c-c30d-4b6c348b37c7"
      },
      "execution_count": 21,
      "outputs": [
        {
          "output_type": "stream",
          "name": "stdout",
          "text": [
            "+------+---------+---------+--------+-------------+---------+\n",
            "|userID|page     |firstName|lastName|ts           |auth     |\n",
            "+------+---------+---------+--------+-------------+---------+\n",
            "|54    |Downgrade|Alexi    |Warren  |1538354749000|Logged In|\n",
            "|95    |Downgrade|Faigy    |Howe    |1538373286000|Logged In|\n",
            "|95    |Downgrade|Faigy    |Howe    |1538392612000|Logged In|\n",
            "|131   |Downgrade|Kael     |Baker   |1538393618000|Logged In|\n",
            "|95    |Downgrade|Faigy    |Howe    |1538393664000|Logged In|\n",
            "+------+---------+---------+--------+-------------+---------+\n",
            "only showing top 5 rows\n",
            "\n"
          ]
        }
      ]
    },
    {
      "cell_type": "code",
      "source": [
        "downgrade_reg_ids = [vv['userID'] for vv in downgrade_events.select('userID').collect()]\n",
        "print(len(downgrade_reg_ids), len(set(downgrade_reg_ids)))"
      ],
      "metadata": {
        "colab": {
          "base_uri": "https://localhost:8080/"
        },
        "id": "j_dG4m1HOpTZ",
        "outputId": "c7cdc375-749b-44bc-e05a-7af438f36222"
      },
      "execution_count": 22,
      "outputs": [
        {
          "output_type": "stream",
          "name": "stdout",
          "text": [
            "2055 154\n"
          ]
        }
      ]
    },
    {
      "cell_type": "markdown",
      "source": [
        "**Downgraded customer cancel their subscription**"
      ],
      "metadata": {
        "id": "_CwKcxak4rg1"
      }
    },
    {
      "cell_type": "code",
      "source": [
        "# Now let's see which of those who downgraded also cancel thier subscription\n",
        "down_cancel = set(cancel_reg_ids).intersection((set(downgrade_reg_ids)))\n",
        "print('{0:.2f}% of customers who downgraded have also cancelled their subscriptions'.format(\n",
        "    100*(len(down_cancel))/len(set(downgrade_reg_ids))))"
      ],
      "metadata": {
        "colab": {
          "base_uri": "https://localhost:8080/"
        },
        "id": "ZkPL63PtOxta",
        "outputId": "85f7bc96-26e5-42b9-f071-ed90f8150b8c"
      },
      "execution_count": 23,
      "outputs": [
        {
          "output_type": "stream",
          "name": "stdout",
          "text": [
            "22.73% of customers who downgraded have also cancelled their subscriptions\n"
          ]
        }
      ]
    },
    {
      "cell_type": "code",
      "source": [
        "user_event.filter((psqf.col('userID') == list(down_cancel)[0]) &\n",
        "                  (psqf.col('page').isin(['Downgrade','Cancel']))).select(['userID','page', 'firstName','ts']).show()"
      ],
      "metadata": {
        "colab": {
          "base_uri": "https://localhost:8080/"
        },
        "id": "Bo3yYLgwO2JU",
        "outputId": "6b7753e8-ea17-455b-f78c-b6edb5aa659e"
      },
      "execution_count": 24,
      "outputs": [
        {
          "output_type": "stream",
          "name": "stdout",
          "text": [
            "+------+---------+---------+-------------+\n",
            "|userID|     page|firstName|           ts|\n",
            "+------+---------+---------+-------------+\n",
            "|100015|Downgrade|     Tina|1539834858000|\n",
            "|100015|Downgrade|     Tina|1541561504000|\n",
            "|100015|Downgrade|     Tina|1541561988000|\n",
            "|100015|Downgrade|     Tina|1543054384000|\n",
            "|100015|Downgrade|     Tina|1543062503000|\n",
            "|100015|   Cancel|     Tina|1543073738000|\n",
            "+------+---------+---------+-------------+\n",
            "\n"
          ]
        }
      ]
    },
    {
      "cell_type": "code",
      "source": [
        "labeled_df  = churn_event.join(user_event, 'userId')"
      ],
      "metadata": {
        "id": "Au6ro40OQU5q"
      },
      "execution_count": 25,
      "outputs": []
    },
    {
      "cell_type": "code",
      "source": [
        "labeled_df.filter(psqf.col('page').isin([\"Cancel\", \"Cancellation Confirmation\"])).select('userId', 'page', 'label').show(5)"
      ],
      "metadata": {
        "colab": {
          "base_uri": "https://localhost:8080/"
        },
        "id": "pGZAkeYaQa55",
        "outputId": "ff38a664-81a8-4adf-d2af-58ea5951bfd0"
      },
      "execution_count": 26,
      "outputs": [
        {
          "output_type": "stream",
          "name": "stdout",
          "text": [
            "+------+--------------------+-----+\n",
            "|userId|                page|label|\n",
            "+------+--------------------+-----+\n",
            "|   125|              Cancel|    1|\n",
            "|   125|Cancellation Conf...|    1|\n",
            "|    51|              Cancel|    1|\n",
            "|    51|Cancellation Conf...|    1|\n",
            "|    54|              Cancel|    1|\n",
            "+------+--------------------+-----+\n",
            "only showing top 5 rows\n",
            "\n"
          ]
        }
      ]
    },
    {
      "cell_type": "markdown",
      "source": [
        "**Value counts of label**"
      ],
      "metadata": {
        "id": "XBQ64nF94yib"
      }
    },
    {
      "cell_type": "code",
      "source": [
        "churned_count = labeled_df.groupby(\"label\").count().show()"
      ],
      "metadata": {
        "colab": {
          "base_uri": "https://localhost:8080/"
        },
        "id": "PFRvFZV5QbYi",
        "outputId": "b51e3cb2-2c8b-4285-9ab5-16eab8e751f2"
      },
      "execution_count": 27,
      "outputs": [
        {
          "output_type": "stream",
          "name": "stdout",
          "text": [
            "+-----+------+\n",
            "|label| count|\n",
            "+-----+------+\n",
            "|    0|241636|\n",
            "|    1| 44864|\n",
            "+-----+------+\n",
            "\n"
          ]
        }
      ]
    },
    {
      "cell_type": "markdown",
      "source": [
        "**Songs played users who stayed vs user who churn**"
      ],
      "metadata": {
        "id": "nug6CkwR5L4-"
      }
    },
    {
      "cell_type": "code",
      "source": [
        "# compare songs played by users who stayed vs user who churn\n",
        "songsplayed = labeled_df.where(psqf.col('song')!='null').groupby(\"label\").agg(psqf.count(psqf.col('song')).alias('SongsPlayed'))\n",
        "songsplayed.show(5)"
      ],
      "metadata": {
        "colab": {
          "base_uri": "https://localhost:8080/"
        },
        "id": "aTLE9o27RaE0",
        "outputId": "3e00c99a-05f4-4387-cf21-64a02bf042d4"
      },
      "execution_count": 28,
      "outputs": [
        {
          "output_type": "stream",
          "name": "stdout",
          "text": [
            "+-----+-----------+\n",
            "|label|SongsPlayed|\n",
            "+-----+-----------+\n",
            "|    0|     191714|\n",
            "|    1|      36394|\n",
            "+-----+-----------+\n",
            "\n"
          ]
        }
      ]
    },
    {
      "cell_type": "markdown",
      "source": [
        "**songs liked for users who stayed vs user who churn**"
      ],
      "metadata": {
        "id": "QfE58PS9_tAF"
      }
    },
    {
      "cell_type": "code",
      "source": [
        "# number of songs liked for users who stayed vs user who churn\n",
        "thumbsup_count = labeled_df.where((psqf.col('page')=='Thumbs Up')).groupby(\"label\").agg(psqf.count(psqf.col('page')).alias('thumbsUpCount'))\n",
        "thumbsup_count.show(5, False)"
      ],
      "metadata": {
        "colab": {
          "base_uri": "https://localhost:8080/"
        },
        "id": "50EYVcJoRaIk",
        "outputId": "4319cc4a-f73d-49dd-8af5-17ccc1224483"
      },
      "execution_count": 29,
      "outputs": [
        {
          "output_type": "stream",
          "name": "stdout",
          "text": [
            "+-----+-------------+\n",
            "|label|thumbsUpCount|\n",
            "+-----+-------------+\n",
            "|0    |10692        |\n",
            "|1    |1859         |\n",
            "+-----+-------------+\n",
            "\n"
          ]
        }
      ]
    },
    {
      "cell_type": "markdown",
      "source": [
        "**song dislikes for users who stayed vs user who churn**"
      ],
      "metadata": {
        "id": "wXo8kF5L_x6f"
      }
    },
    {
      "cell_type": "code",
      "source": [
        "# number of dislikes for users who stayed vs user who churn\n",
        "thumbsdown_count = labeled_df.where((psqf.col(\"page\")=='Thumbs Down')).groupby(\"label\").agg(psqf.count(psqf.col('page')).alias('thumbsDownCount'))\n",
        "thumbsdown_count.show(5)"
      ],
      "metadata": {
        "colab": {
          "base_uri": "https://localhost:8080/"
        },
        "id": "fz9t-MbPRaPE",
        "outputId": "b478041f-3d45-4baf-b120-4a0d2fa9211b"
      },
      "execution_count": 30,
      "outputs": [
        {
          "output_type": "stream",
          "name": "stdout",
          "text": [
            "+-----+---------------+\n",
            "|label|thumbsDownCount|\n",
            "+-----+---------------+\n",
            "|    0|           2050|\n",
            "|    1|            496|\n",
            "+-----+---------------+\n",
            "\n"
          ]
        }
      ]
    },
    {
      "cell_type": "code",
      "source": [
        "# number of downgrades for users who stayed vs user who churn\n",
        "downgrade_count = labeled_df.where((psqf.col(\"page\")=='Downgrade')).groupby(\"label\").agg(psqf.count(psqf.col('page')).alias('downgradeCount'))\n",
        "downgrade_count.show(5)"
      ],
      "metadata": {
        "colab": {
          "base_uri": "https://localhost:8080/"
        },
        "id": "VUzr77m4Rh2B",
        "outputId": "02e9c1b2-b43a-4590-e3d1-ed22f5b3ed99"
      },
      "execution_count": 31,
      "outputs": [
        {
          "output_type": "stream",
          "name": "stdout",
          "text": [
            "+-----+--------------+\n",
            "|label|downgradeCount|\n",
            "+-----+--------------+\n",
            "|    0|          1718|\n",
            "|    1|           337|\n",
            "+-----+--------------+\n",
            "\n"
          ]
        }
      ]
    },
    {
      "cell_type": "markdown",
      "source": [
        "**EDA**"
      ],
      "metadata": {
        "id": "1YGhMTYMRjfl"
      }
    },
    {
      "cell_type": "code",
      "source": [
        "use_level_count = labeled_df.groupby('userId', 'level', 'label').count()\n",
        "use_level_count_pd  = use_level_count.select(\"userId\", \"level\", 'label').toPandas()\n",
        "use_level_count_pd[['level', 'label']].groupby(['level', 'label']).agg({'label':'count'}).unstack().plot(kind='bar');\n",
        "plt.title('churned-level customer count comparison')\n",
        "plt.ylabel('customer count');"
      ],
      "metadata": {
        "colab": {
          "base_uri": "https://localhost:8080/",
          "height": 307
        },
        "id": "1mtFbVK_QuWW",
        "outputId": "cd2653f7-ea84-4791-d054-31eb1e837f16"
      },
      "execution_count": 32,
      "outputs": [
        {
          "output_type": "display_data",
          "data": {
            "text/plain": [
              "<Figure size 432x288 with 1 Axes>"
            ],
            "image/png": "[encoded data removed]"
          },
          "metadata": {
            "needs_background": "light"
          }
        }
      ]
    },
    {
      "cell_type": "code",
      "source": [
        "use_level_count_pd[['level', 'label']].groupby(['level', 'label']).agg({'label':'count'}).unstack().plot(kind='bar');\n",
        "plt.title('churned-level customer count comparison')\n",
        "plt.ylabel('customer count');"
      ],
      "metadata": {
        "colab": {
          "base_uri": "https://localhost:8080/",
          "height": 307
        },
        "id": "eUku5xgMQvA5",
        "outputId": "dc886d44-c8d4-4a12-9fc7-d7cfff9da771"
      },
      "execution_count": 33,
      "outputs": [
        {
          "output_type": "display_data",
          "data": {
            "text/plain": [
              "<Figure size 432x288 with 1 Axes>"
            ],
            "image/png": "[encoded data removed]"
          },
          "metadata": {
            "needs_background": "light"
          }
        }
      ]
    },
    {
      "cell_type": "code",
      "source": [
        "use_level_count_pd.label.value_counts().plot(kind='bar');\n",
        "plt.ylabel('User count')\n",
        "plt.xlabel('label')\n",
        "plt.title('Churned vs active customer count');"
      ],
      "metadata": {
        "colab": {
          "base_uri": "https://localhost:8080/",
          "height": 292
        },
        "id": "S8upiavKQytk",
        "outputId": "f6d44f7b-4c1f-4746-ed41-fdc0ecbb8f4c"
      },
      "execution_count": 34,
      "outputs": [
        {
          "output_type": "display_data",
          "data": {
            "text/plain": [
              "<Figure size 432x288 with 1 Axes>"
            ],
            "image/png": "[encoded data removed]"
          },
          "metadata": {
            "needs_background": "light"
          }
        }
      ]
    },
    {
      "cell_type": "markdown",
      "metadata": {
        "id": "SRCRxXmmHK4Y"
      },
      "source": [
        "# Feature Engineering<br>\n",
        "Once you've familiarized yourself with the data, build out the features you find promising to train your model on. To work with the full dataset, you can follow the following steps.<br>\n",
        "- Write a script to extract the necessary features from the smaller subset of data<br>\n",
        "- Ensure that your script is scalable, using the best practices discussed in Lesson 3<br>\n",
        "- Try your script on the full data set, debugging your script if necessary<br>\n",
        "<br>\n",
        "If you are working in the classroom workspace, you can just extract features based on the small subset of data contained here. Be sure to transfer over this work to the larger dataset when you work on your Spark cluster."
      ]
    },
    {
      "cell_type": "markdown",
      "source": [
        "** Number of songs each user played**"
      ],
      "metadata": {
        "id": "7U6R1qhiSIMS"
      }
    },
    {
      "cell_type": "code",
      "source": [
        "songsplayed = labeled_df.where(psqf.col('song')!='null').groupby(\"userId\").agg(psqf.count(psqf.col('song')).alias('SongsPlayed')).orderBy('userId')\n",
        "songsplayed.show(5)"
      ],
      "metadata": {
        "colab": {
          "base_uri": "https://localhost:8080/"
        },
        "id": "RVNCnwt1SIWb",
        "outputId": "a718da9f-6439-4627-8c1c-8b7ca3822b8a"
      },
      "execution_count": 35,
      "outputs": [
        {
          "output_type": "stream",
          "name": "stdout",
          "text": [
            "+------+-----------+\n",
            "|userId|SongsPlayed|\n",
            "+------+-----------+\n",
            "|    10|        673|\n",
            "|   100|       2682|\n",
            "|100001|        133|\n",
            "|100002|        195|\n",
            "|100003|         51|\n",
            "+------+-----------+\n",
            "only showing top 5 rows\n",
            "\n"
          ]
        }
      ]
    },
    {
      "cell_type": "markdown",
      "source": [
        "**Number of distinct hour counts  a user logged in the system**"
      ],
      "metadata": {
        "id": "DBpxzS9qSQfx"
      }
    },
    {
      "cell_type": "code",
      "source": [
        "hours_udf = psqf.udf(lambda x: datetime.datetime.utcfromtimestamp(x/1000.0).strftime('%Y-%m-%d-%H'))\n",
        "hours_df  = labeled_df.select('userId', 'ts').withColumn('hour', hours_udf(psqf.col('ts')))\n",
        "hours_df.show(5)"
      ],
      "metadata": {
        "colab": {
          "base_uri": "https://localhost:8080/"
        },
        "id": "wDNK3Q5WSRL7",
        "outputId": "3f2e1797-b25a-4d59-a4da-905a4bb5eb0b"
      },
      "execution_count": 36,
      "outputs": [
        {
          "output_type": "stream",
          "name": "stdout",
          "text": [
            "+------+-------------+-------------+\n",
            "|userId|           ts|         hour|\n",
            "+------+-------------+-------------+\n",
            "|100010|1539003534000|2018-10-08-12|\n",
            "|100010|1539003736000|2018-10-08-13|\n",
            "|100010|1539003932000|2018-10-08-13|\n",
            "|100010|1539003933000|2018-10-08-13|\n",
            "|100010|1539004195000|2018-10-08-13|\n",
            "+------+-------------+-------------+\n",
            "only showing top 5 rows\n",
            "\n"
          ]
        }
      ]
    },
    {
      "cell_type": "code",
      "source": [
        "hour_count_df = hours_df.where(psqf.col('userId')!='null').groupby('userId').agg((psqf.countDistinct(psqf.col('hour'))).alias(\"HourCount\")).orderBy('userId')\n",
        "hour_count_df.show(5)"
      ],
      "metadata": {
        "colab": {
          "base_uri": "https://localhost:8080/"
        },
        "id": "holt9QtvSU50",
        "outputId": "70577d42-5d95-48c8-b685-2912081a8cdc"
      },
      "execution_count": 37,
      "outputs": [
        {
          "output_type": "stream",
          "name": "stdout",
          "text": [
            "+------+---------+\n",
            "|userId|HourCount|\n",
            "+------+---------+\n",
            "|      |     1306|\n",
            "|    10|       51|\n",
            "|   100|      218|\n",
            "|100001|       14|\n",
            "|100002|       18|\n",
            "+------+---------+\n",
            "only showing top 5 rows\n",
            "\n"
          ]
        }
      ]
    },
    {
      "cell_type": "markdown",
      "source": [
        "### Thumbs Up and Thumbs Down counts:\n",
        "A user having a lot of thumbs down could be an indication of the users disastisfaction with song recommendations from Sparkify while a more thumbs up ( likes) by a user indicates user is happy with song recommendations"
      ],
      "metadata": {
        "id": "0pdebWG6SatN"
      }
    },
    {
      "cell_type": "markdown",
      "source": [
        "**Filter rows where user-id is missing**"
      ],
      "metadata": {
        "id": "njec9dBtAiyO"
      }
    },
    {
      "cell_type": "code",
      "source": [
        "# filter out rows with userId == null\n",
        "labeled_df = labeled_df.where(psqf.col('userId')!='null')\n",
        "labeled_df.show(5)"
      ],
      "metadata": {
        "colab": {
          "base_uri": "https://localhost:8080/"
        },
        "id": "A9s6Hz6eSbmJ",
        "outputId": "1eacab1b-557a-4a21-b8d9-735e225c0b76"
      },
      "execution_count": 38,
      "outputs": [
        {
          "output_type": "stream",
          "name": "stdout",
          "text": [
            "+------+-----+--------------------+---------+---------+------+-------------+---------+---------+-----+--------------------+------+---------+-------------+---------+--------------------+------+-------------+--------------------+\n",
            "|userId|label|              artist|     auth|firstName|gender|itemInSession| lastName|   length|level|            location|method|     page| registration|sessionId|                song|status|           ts|           userAgent|\n",
            "+------+-----+--------------------+---------+---------+------+-------------+---------+---------+-----+--------------------+------+---------+-------------+---------+--------------------+------+-------------+--------------------+\n",
            "|100010|    0|Sleeping With Sirens|Logged In| Darianna|     F|            0|Carpenter|202.97098| free|Bridgeport-Stamfo...|   PUT| NextSong|1538016340000|       31|Captain Tyin Knot...|   200|1539003534000|\"Mozilla/5.0 (iPh...|\n",
            "|100010|    0|Francesca Battist...|Logged In| Darianna|     F|            1|Carpenter|196.54485| free|Bridgeport-Stamfo...|   PUT| NextSong|1538016340000|       31|Beautiful_ Beauti...|   200|1539003736000|\"Mozilla/5.0 (iPh...|\n",
            "|100010|    0|              Brutha|Logged In| Darianna|     F|            2|Carpenter|263.13098| free|Bridgeport-Stamfo...|   PUT| NextSong|1538016340000|       31|          She's Gone|   200|1539003932000|\"Mozilla/5.0 (iPh...|\n",
            "|100010|    0|                null|Logged In| Darianna|     F|            3|Carpenter|     null| free|Bridgeport-Stamfo...|   PUT|Thumbs Up|1538016340000|       31|                null|   307|1539003933000|\"Mozilla/5.0 (iPh...|\n",
            "|100010|    0|         Josh Ritter|Logged In| Darianna|     F|            4|Carpenter|316.23791| free|Bridgeport-Stamfo...|   PUT| NextSong|1538016340000|       31|      Folk Bloodbath|   200|1539004195000|\"Mozilla/5.0 (iPh...|\n",
            "+------+-----+--------------------+---------+---------+------+-------------+---------+---------+-----+--------------------+------+---------+-------------+---------+--------------------+------+-------------+--------------------+\n",
            "only showing top 5 rows\n",
            "\n"
          ]
        }
      ]
    },
    {
      "cell_type": "code",
      "source": [
        "thumbsup_count = labeled_df.where((psqf.col('page')=='Thumbs Up') &(psqf.col('userId')!='null')).groupby(\"userId\").agg(psqf.count(psqf.col('page')).alias('thumbsUpCount')).orderBy('userId')\n",
        "thumbsup_count.show(5, False)"
      ],
      "metadata": {
        "colab": {
          "base_uri": "https://localhost:8080/"
        },
        "id": "UC9wxCk_SeUL",
        "outputId": "97eac209-f8c4-440f-f93c-9e4625f8aa20"
      },
      "execution_count": 39,
      "outputs": [
        {
          "output_type": "stream",
          "name": "stdout",
          "text": [
            "+------+-------------+\n",
            "|userId|thumbsUpCount|\n",
            "+------+-------------+\n",
            "|10    |37           |\n",
            "|100   |148          |\n",
            "|100001|8            |\n",
            "|100002|5            |\n",
            "|100003|3            |\n",
            "+------+-------------+\n",
            "only showing top 5 rows\n",
            "\n"
          ]
        }
      ]
    },
    {
      "cell_type": "code",
      "source": [
        "thumbsdown_count = labeled_df.where((psqf.col(\"page\")=='Thumbs Down')&(psqf.col('userId')!='null')).groupby(\"userId\").agg(psqf.count(psqf.col('page')).alias('thumbsDownCount')).orderBy('userId')\n",
        "thumbsdown_count.show(5)"
      ],
      "metadata": {
        "colab": {
          "base_uri": "https://localhost:8080/"
        },
        "id": "18ehE9VaSjp7",
        "outputId": "f4524a4b-c721-4e40-f716-e76dd139574a"
      },
      "execution_count": 40,
      "outputs": [
        {
          "output_type": "stream",
          "name": "stdout",
          "text": [
            "+------+---------------+\n",
            "|userId|thumbsDownCount|\n",
            "+------+---------------+\n",
            "|    10|              4|\n",
            "|   100|             27|\n",
            "|100001|              2|\n",
            "|100004|             11|\n",
            "|100005|              3|\n",
            "+------+---------------+\n",
            "only showing top 5 rows\n",
            "\n"
          ]
        }
      ]
    },
    {
      "cell_type": "markdown",
      "source": [
        "**Merge all features by vector assembler**"
      ],
      "metadata": {
        "id": "oT-UI2YNArQk"
      }
    },
    {
      "cell_type": "code",
      "source": [
        "## Join all the features\n",
        "features_df = churn_event.join(songsplayed, \"userId\").\\\n",
        "join(hour_count_df, \"userId\").join(thumbsup_count, \"userId\").join(thumbsdown_count, \"userId\")"
      ],
      "metadata": {
        "id": "127J-O5NSluu"
      },
      "execution_count": 41,
      "outputs": []
    },
    {
      "cell_type": "code",
      "source": [
        "features_df.show(5)"
      ],
      "metadata": {
        "colab": {
          "base_uri": "https://localhost:8080/"
        },
        "id": "Gwk4gp6PSnwy",
        "outputId": "9e5a4ed7-3535-4875-faf9-efbe0e428d35"
      },
      "execution_count": 42,
      "outputs": [
        {
          "output_type": "stream",
          "name": "stdout",
          "text": [
            "+------+-----+-----------+---------+-------------+---------------+\n",
            "|userId|label|SongsPlayed|HourCount|thumbsUpCount|thumbsDownCount|\n",
            "+------+-----+-----------+---------+-------------+---------------+\n",
            "|100010|    0|        275|       26|           17|              5|\n",
            "|200002|    0|        387|       32|           21|              6|\n",
            "|   124|    0|       4079|      306|          171|             41|\n",
            "|    51|    1|       2111|      156|          100|             21|\n",
            "|     7|    0|        150|       18|            7|              1|\n",
            "+------+-----+-----------+---------+-------------+---------------+\n",
            "only showing top 5 rows\n",
            "\n"
          ]
        }
      ]
    },
    {
      "cell_type": "code",
      "source": [
        "assembler = VectorAssembler(inputCols=[\"SongsPlayed\", \"HourCount\", \"thumbsUpCount\", \"thumbsDownCount\"], outputCol=\"rawFeatures\")\n",
        "features_df = assembler.transform(features_df)\n",
        "features_df.select('label', 'rawFeatures').show(4)"
      ],
      "metadata": {
        "colab": {
          "base_uri": "https://localhost:8080/"
        },
        "id": "FdlzBgWkSqNA",
        "outputId": "73ac481b-7017-4fed-95dc-b2d0e3c0c70e"
      },
      "execution_count": 43,
      "outputs": [
        {
          "output_type": "stream",
          "name": "stdout",
          "text": [
            "+-----+--------------------+\n",
            "|label|         rawFeatures|\n",
            "+-----+--------------------+\n",
            "|    0|[275.0,26.0,17.0,...|\n",
            "|    0|[387.0,32.0,21.0,...|\n",
            "|    0|[4079.0,306.0,171...|\n",
            "|    1|[2111.0,156.0,100...|\n",
            "+-----+--------------------+\n",
            "only showing top 4 rows\n",
            "\n"
          ]
        }
      ]
    },
    {
      "cell_type": "markdown",
      "source": [
        "**Feature scaling**"
      ],
      "metadata": {
        "id": "746REKWwAz3w"
      }
    },
    {
      "cell_type": "code",
      "source": [
        "scaler = StandardScaler(inputCol=\"rawFeatures\", outputCol=\"features\", withStd=True)\n",
        "scalerModel = scaler.fit(features_df)\n",
        "features_df = scalerModel.transform(features_df)"
      ],
      "metadata": {
        "id": "QCoVrdeqStRX"
      },
      "execution_count": 44,
      "outputs": []
    },
    {
      "cell_type": "code",
      "source": [
        "input_data = features_df.withColumn('label', psqf.col('label').cast(psqt.IntegerType())).select('label', 'features')\n",
        "input_data.show(2)"
      ],
      "metadata": {
        "colab": {
          "base_uri": "https://localhost:8080/"
        },
        "id": "ydQSu93jSvR5",
        "outputId": "92f9ef8b-409b-4dc2-944f-a6177d006ed9"
      },
      "execution_count": 45,
      "outputs": [
        {
          "output_type": "stream",
          "name": "stdout",
          "text": [
            "+-----+--------------------+\n",
            "|label|            features|\n",
            "+-----+--------------------+\n",
            "|    0|[0.24639992057147...|\n",
            "|    0|[0.34675188822240...|\n",
            "+-----+--------------------+\n",
            "only showing top 2 rows\n",
            "\n"
          ]
        }
      ]
    },
    {
      "cell_type": "markdown",
      "metadata": {
        "id": "s4nB0wwsHK4a"
      },
      "source": [
        "# Modeling<br>\n",
        "Split the full dataset into train, test, and validation sets. Test out several of the machine learning methods you learned. Evaluate the accuracy of the various models, tuning parameters as necessary. Determine your winning model based on test accuracy and report results on the validation set. Since the churned users are a fairly small subset, I suggest using F1 score as the metric to optimize."
      ]
    },
    {
      "cell_type": "markdown",
      "metadata": {
        "id": "g17Kv5E2HK4b"
      },
      "source": [
        "**Handle categorical features using string indexer**"
      ]
    },
    {
      "cell_type": "code",
      "source": [
        "# Index labels, adding metadata to the label column.\n",
        "# Fit on whole dataset to include all labels in index.\n",
        "labelIndexer = StringIndexer(inputCol=\"label\", outputCol=\"indexedLabel\").fit(input_data)"
      ],
      "metadata": {
        "id": "kOkoLqu0HQVS"
      },
      "execution_count": 46,
      "outputs": []
    },
    {
      "cell_type": "code",
      "source": [
        "# Automatically identify categorical features, and index them.\n",
        "# Set maxCategories so features with > 4 distinct values are treated as continuous.\n",
        "featureIndexer =\\\n",
        "    VectorIndexer(inputCol=\"features\", outputCol=\"indexedFeatures\", maxCategories=4).fit(input_data)"
      ],
      "metadata": {
        "id": "kzz0ZHJNTw8G"
      },
      "execution_count": 47,
      "outputs": []
    },
    {
      "cell_type": "markdown",
      "source": [
        "**Train test spliting**"
      ],
      "metadata": {
        "id": "xdjAqVlPA_dO"
      }
    },
    {
      "cell_type": "code",
      "source": [
        "# Split the data into training and test sets (since dataset is imbalanced)\n",
        "(trainingData, tempData) = input_data.randomSplit([0.6, 0.4])\n",
        "(validationData, testData) = tempData.randomSplit([0.5, 0.5])"
      ],
      "metadata": {
        "id": "FJcKyJGHT0i-"
      },
      "execution_count": 48,
      "outputs": []
    },
    {
      "cell_type": "markdown",
      "source": [
        "**Random Forest**"
      ],
      "metadata": {
        "id": "sgScYhbFBCKN"
      }
    },
    {
      "cell_type": "code",
      "source": [
        "# Train a RandomForest model.\n",
        "rf = RandomForestClassifier(labelCol=\"indexedLabel\", featuresCol=\"indexedFeatures\", numTrees=10)\n",
        "# Convert indexed labels back to original labels.\n",
        "labelConverter = IndexToString(inputCol=\"prediction\", outputCol=\"predictedLabel\",\n",
        "                               labels=labelIndexer.labels)\n",
        "# Chain indexers and forest in a Pipeline\n",
        "pipeline = Pipeline(stages=[labelIndexer, featureIndexer, rf, labelConverter])"
      ],
      "metadata": {
        "id": "VTFAARB0T3B1"
      },
      "execution_count": 49,
      "outputs": []
    },
    {
      "cell_type": "code",
      "source": [
        "# Train model.  This also runs the indexers.\n",
        "model = pipeline.fit(trainingData)"
      ],
      "metadata": {
        "id": "-pLLcix8T3lo"
      },
      "execution_count": 50,
      "outputs": []
    },
    {
      "cell_type": "markdown",
      "source": [
        "**Prediction on unseen data**"
      ],
      "metadata": {
        "id": "hFs6JkzxBGEA"
      }
    },
    {
      "cell_type": "code",
      "source": [
        "# Make predictions.\n",
        "predictions = model.transform(validationData)\n",
        "\n",
        "# Select example rows to display.\n",
        "predictions.select(\"predictedLabel\", \"label\", \"features\").show(5)\n",
        "\n",
        "# Select (prediction, true label) and compute test error\n",
        "evaluator = MulticlassClassificationEvaluator(\n",
        "    labelCol=\"indexedLabel\", predictionCol=\"prediction\", metricName=\"accuracy\")\n",
        "accuracy = evaluator.evaluate(predictions)\n",
        "print(\"Validation Error = %g\" % (1.0 - accuracy))\n",
        "\n",
        "rfModel = model.stages[2]\n",
        "print(rfModel)  # summary only"
      ],
      "metadata": {
        "colab": {
          "base_uri": "https://localhost:8080/"
        },
        "id": "QUbTwVscT7vq",
        "outputId": "1147cb5f-b5ca-4ef6-8d71-0ff8873006a1"
      },
      "execution_count": 51,
      "outputs": [
        {
          "output_type": "stream",
          "name": "stdout",
          "text": [
            "+--------------+-----+--------------------+\n",
            "|predictedLabel|label|            features|\n",
            "+--------------+-----+--------------------+\n",
            "|             0|    0|[0.73471976315859...|\n",
            "|             0|    0|[1.72748744313385...|\n",
            "|             0|    1|[1.61011148097071...|\n",
            "|             0|    1|[0.20607993356887...|\n",
            "|             0|    0|[1.26963159072649...|\n",
            "+--------------+-----+--------------------+\n",
            "only showing top 5 rows\n",
            "\n",
            "Validation Error = 0.205128\n",
            "RandomForestClassificationModel: uid=RandomForestClassifier_d831dc554619, numTrees=10, numClasses=2, numFeatures=4\n"
          ]
        }
      ]
    },
    {
      "cell_type": "markdown",
      "source": [
        "**Evaluate the performance**"
      ],
      "metadata": {
        "id": "tX8CR0WbBJ9R"
      }
    },
    {
      "cell_type": "code",
      "source": [
        "f1_score_evaluator = MulticlassClassificationEvaluator(labelCol=\"indexedLabel\", predictionCol=\"prediction\",metricName='f1')\n",
        "f1_score = f1_score_evaluator.evaluate(predictions)\n",
        "print(\"F1 score = %g\" % (f1_score))"
      ],
      "metadata": {
        "colab": {
          "base_uri": "https://localhost:8080/"
        },
        "id": "C0CM5_K4T-h9",
        "outputId": "2491509d-30bc-4f9a-fd50-3fa665af3fc2"
      },
      "execution_count": 52,
      "outputs": [
        {
          "output_type": "stream",
          "name": "stdout",
          "text": [
            "F1 score = 0.760531\n"
          ]
        }
      ]
    },
    {
      "cell_type": "markdown",
      "source": [
        "**Hyperparameter tunning of random forest**"
      ],
      "metadata": {
        "id": "r0FuGEcGKOAa"
      }
    },
    {
      "cell_type": "code",
      "source": [
        "rfc = RandomForestClassifier(labelCol=\"indexedLabel\", featuresCol=\"indexedFeatures\")\n",
        "# Chain indexers and forest in a Pipeline\n",
        "pipeline = Pipeline(stages=[labelIndexer, featureIndexer, rfc, labelConverter])\n",
        "param_grid = ParamGridBuilder().addGrid(rfc.numTrees, [10, 15]).addGrid(rfc.maxDepth, [2, 5]).build()\n",
        "cv = CrossValidator(estimator=pipeline, \n",
        "                    estimatorParamMaps = param_grid, \n",
        "                    evaluator = MulticlassClassificationEvaluator(metricName='f1'),\n",
        "                    numFolds=3)\n",
        "\n",
        "best_model = cv.fit(trainingData)"
      ],
      "metadata": {
        "id": "YgOPRg8rKQKY"
      },
      "execution_count": 53,
      "outputs": []
    },
    {
      "cell_type": "markdown",
      "source": [
        "**Evaluate performance of optimized model**"
      ],
      "metadata": {
        "id": "HhTYDTlfBe81"
      }
    },
    {
      "cell_type": "code",
      "source": [
        "def evaluate_model(model, data):\n",
        "    \"\"\"\n",
        "    Make prediction and evaluate model.\n",
        "    Parameters\n",
        "    -----------\n",
        "        model: model object\n",
        "    returns\n",
        "    -------\n",
        "        None\n",
        "    \"\"\"\n",
        "    predictions = model.transform(data)\n",
        "\n",
        "    # Select example rows to display.\n",
        "    predictions.select(\"predictedLabel\", \"label\", \"features\").show(5)\n",
        "\n",
        "    # Select (prediction, true label) and compute test error\n",
        "    evaluator = MulticlassClassificationEvaluator(\n",
        "        labelCol=\"indexedLabel\", predictionCol=\"prediction\", metricName=\"accuracy\")\n",
        "    accuracy = evaluator.evaluate(predictions)\n",
        "    print(\"Error = %g\" % (1.0 - accuracy))\n",
        "    f1_score_evaluator = MulticlassClassificationEvaluator(labelCol=\"indexedLabel\", predictionCol=\"prediction\",metricName='f1')\n",
        "    f1_score = f1_score_evaluator.evaluate(predictions)\n",
        "    print(\"F1 score = %g\" % (f1_score))"
      ],
      "metadata": {
        "id": "SQy57NW7KUKH"
      },
      "execution_count": 54,
      "outputs": []
    },
    {
      "cell_type": "code",
      "source": [
        "evaluate_model(model=best_model, data=validationData)"
      ],
      "metadata": {
        "colab": {
          "base_uri": "https://localhost:8080/"
        },
        "id": "7DbctojDKV9f",
        "outputId": "9b71c66d-b542-47ad-ff23-8c49cf203ffe"
      },
      "execution_count": 55,
      "outputs": [
        {
          "output_type": "stream",
          "name": "stdout",
          "text": [
            "+--------------+-----+--------------------+\n",
            "|predictedLabel|label|            features|\n",
            "+--------------+-----+--------------------+\n",
            "|             0|    0|[0.73471976315859...|\n",
            "|             0|    0|[1.72748744313385...|\n",
            "|             0|    1|[1.61011148097071...|\n",
            "|             0|    1|[0.20607993356887...|\n",
            "|             0|    0|[1.26963159072649...|\n",
            "+--------------+-----+--------------------+\n",
            "only showing top 5 rows\n",
            "\n",
            "Error = 0.205128\n",
            "F1 score = 0.760531\n"
          ]
        }
      ]
    },
    {
      "cell_type": "code",
      "source": [
        "evaluate_model(model=best_model, data=testData)"
      ],
      "metadata": {
        "colab": {
          "base_uri": "https://localhost:8080/"
        },
        "id": "l7pUwlKzKYCm",
        "outputId": "f4fe388a-09fd-4e2d-9b34-c142e26fa229"
      },
      "execution_count": 56,
      "outputs": [
        {
          "output_type": "stream",
          "name": "stdout",
          "text": [
            "+--------------+-----+--------------------+\n",
            "|predictedLabel|label|            features|\n",
            "+--------------+-----+--------------------+\n",
            "|             0|    0|[0.13439995667535...|\n",
            "|             0|    1|[2.54553517943116...|\n",
            "|             0|    0|[3.20140696800688...|\n",
            "|             0|    1|[0.19174393819016...|\n",
            "|             0|    0|[0.58239981225985...|\n",
            "+--------------+-----+--------------------+\n",
            "only showing top 5 rows\n",
            "\n",
            "Error = 0.351351\n",
            "F1 score = 0.568878\n"
          ]
        }
      ]
    },
    {
      "cell_type": "markdown",
      "source": [
        "# Results\n",
        "We have analysed the sparkify dataset and come up with new features to predict churn. We then created a machine learning model and tuned it to improve its performance. We achieved an accuracy score of - and F1 score of - on the test dataset. "
      ],
      "metadata": {
        "id": "-SbKtCxKKiIQ"
      }
    },
    {
      "cell_type": "markdown",
      "source": [
        "# Conclusion\n",
        "We are able to achieve an accuracy score of -- and F1 score of -- on the test dataset using the tuned Random Forest algorithm. The model peformance can be further improved by creating additional features and includiding some of the features that I have left out for this analysis. The model should also be tested using samples from the left out big dataset which hasn't been used for this analysis. Once we are satified with the result, a large scale of the model can be implemented on the cloud."
      ],
      "metadata": {
        "id": "qRds9_WNKlP5"
      }
    },
    {
      "cell_type": "markdown",
      "metadata": {
        "id": "9MxWVeXTHK4c"
      },
      "source": [
        "# Final Steps<br>\n",
        "Clean up your code, adding comments and renaming variables to make the code easier to read and maintain. Refer to the Spark Project Overview page and Data Scientist Capstone Project Rubric to make sure you are including all components of the capstone project and meet all expectations. Remember, this includes thorough documentation in a README file in a Github repository, as well as a web app or blog post."
      ]
    },
    {
      "cell_type": "markdown",
      "source": [
        "**Load the dataset**"
      ],
      "metadata": {
        "id": "XSgBWC4TCw6S"
      }
    },
    {
      "cell_type": "code",
      "source": [
        "data = spark.read.json(data_path)\n",
        "df = data"
      ],
      "metadata": {
        "id": "eUryLa0wOxnJ"
      },
      "execution_count": 90,
      "outputs": []
    },
    {
      "cell_type": "markdown",
      "source": [
        "**Dataset**"
      ],
      "metadata": {
        "id": "MFP5sLlYDApu"
      }
    },
    {
      "cell_type": "code",
      "source": [
        "df.show(5)"
      ],
      "metadata": {
        "colab": {
          "base_uri": "https://localhost:8080/"
        },
        "id": "valBaRXMO86z",
        "outputId": "9b32518e-5b5e-41b8-87ce-eae12904522d"
      },
      "execution_count": 91,
      "outputs": [
        {
          "output_type": "stream",
          "name": "stdout",
          "text": [
            "+----------------+---------+---------+------+-------------+--------+---------+-----+--------------------+------+--------+-------------+---------+--------------------+------+-------------+--------------------+------+\n",
            "|          artist|     auth|firstName|gender|itemInSession|lastName|   length|level|            location|method|    page| registration|sessionId|                song|status|           ts|           userAgent|userId|\n",
            "+----------------+---------+---------+------+-------------+--------+---------+-----+--------------------+------+--------+-------------+---------+--------------------+------+-------------+--------------------+------+\n",
            "|  Martha Tilston|Logged In|    Colin|     M|           50| Freeman|277.89016| paid|     Bakersfield, CA|   PUT|NextSong|1538173362000|       29|           Rockpools|   200|1538352117000|Mozilla/5.0 (Wind...|    30|\n",
            "|Five Iron Frenzy|Logged In|    Micah|     M|           79|    Long|236.09424| free|Boston-Cambridge-...|   PUT|NextSong|1538331630000|        8|              Canada|   200|1538352180000|\"Mozilla/5.0 (Win...|     9|\n",
            "|    Adam Lambert|Logged In|    Colin|     M|           51| Freeman| 282.8273| paid|     Bakersfield, CA|   PUT|NextSong|1538173362000|       29|   Time For Miracles|   200|1538352394000|Mozilla/5.0 (Wind...|    30|\n",
            "|          Enigma|Logged In|    Micah|     M|           80|    Long|262.71302| free|Boston-Cambridge-...|   PUT|NextSong|1538331630000|        8|Knocking On Forbi...|   200|1538352416000|\"Mozilla/5.0 (Win...|     9|\n",
            "|       Daft Punk|Logged In|    Colin|     M|           52| Freeman|223.60771| paid|     Bakersfield, CA|   PUT|NextSong|1538173362000|       29|Harder Better Fas...|   200|1538352676000|Mozilla/5.0 (Wind...|    30|\n",
            "+----------------+---------+---------+------+-------------+--------+---------+-----+--------------------+------+--------+-------------+---------+--------------------+------+-------------+--------------------+------+\n",
            "only showing top 5 rows\n",
            "\n"
          ]
        }
      ]
    },
    {
      "cell_type": "markdown",
      "source": [
        "**shape of dataset**"
      ],
      "metadata": {
        "id": "WkfCM6tNDFEi"
      }
    },
    {
      "cell_type": "code",
      "source": [
        "print(df.count(), len(df.columns))"
      ],
      "metadata": {
        "colab": {
          "base_uri": "https://localhost:8080/"
        },
        "id": "NT7dkryUO-hZ",
        "outputId": "164b9498-efc0-4321-e520-c6e80f1b2ecd"
      },
      "execution_count": 92,
      "outputs": [
        {
          "output_type": "stream",
          "name": "stdout",
          "text": [
            "286500 18\n"
          ]
        }
      ]
    },
    {
      "cell_type": "markdown",
      "source": [
        "**Schema of dataset**"
      ],
      "metadata": {
        "id": "YDdoOwCMDF6q"
      }
    },
    {
      "cell_type": "code",
      "source": [
        "df.printSchema()"
      ],
      "metadata": {
        "colab": {
          "base_uri": "https://localhost:8080/"
        },
        "id": "ovz-7xq_PAkb",
        "outputId": "e5551fd7-ad68-4dfa-be06-c992b6a8ee6f"
      },
      "execution_count": 93,
      "outputs": [
        {
          "output_type": "stream",
          "name": "stdout",
          "text": [
            "root\n",
            " |-- artist: string (nullable = true)\n",
            " |-- auth: string (nullable = true)\n",
            " |-- firstName: string (nullable = true)\n",
            " |-- gender: string (nullable = true)\n",
            " |-- itemInSession: long (nullable = true)\n",
            " |-- lastName: string (nullable = true)\n",
            " |-- length: double (nullable = true)\n",
            " |-- level: string (nullable = true)\n",
            " |-- location: string (nullable = true)\n",
            " |-- method: string (nullable = true)\n",
            " |-- page: string (nullable = true)\n",
            " |-- registration: long (nullable = true)\n",
            " |-- sessionId: long (nullable = true)\n",
            " |-- song: string (nullable = true)\n",
            " |-- status: long (nullable = true)\n",
            " |-- ts: long (nullable = true)\n",
            " |-- userAgent: string (nullable = true)\n",
            " |-- userId: string (nullable = true)\n",
            "\n"
          ]
        }
      ]
    },
    {
      "cell_type": "markdown",
      "source": [
        "**Count missing values**"
      ],
      "metadata": {
        "id": "jHatb6u8DJUY"
      }
    },
    {
      "cell_type": "code",
      "source": [
        "#count null values for each column\n",
        "df_nulls = df.select([psqf.count(psqf.when(psqf.isnull(c), c)).alias(c) for c in user_event.columns])\n",
        "df_nulls.show()"
      ],
      "metadata": {
        "colab": {
          "base_uri": "https://localhost:8080/"
        },
        "id": "2-4n7wJ2PBQM",
        "outputId": "6d9084df-ada2-4c88-af8b-eccbf23a3aea"
      },
      "execution_count": 94,
      "outputs": [
        {
          "output_type": "stream",
          "name": "stdout",
          "text": [
            "+------+----+---------+------+-------------+--------+------+-----+--------+------+----+------------+---------+-----+------+---+---------+------+\n",
            "|artist|auth|firstName|gender|itemInSession|lastName|length|level|location|method|page|registration|sessionId| song|status| ts|userAgent|userId|\n",
            "+------+----+---------+------+-------------+--------+------+-----+--------+------+----+------------+---------+-----+------+---+---------+------+\n",
            "| 58392|   0|     8346|  8346|            0|    8346| 58392|    0|    8346|     0|   0|        8346|        0|58392|     0|  0|     8346|     0|\n",
            "+------+----+---------+------+-------------+--------+------+-----+--------+------+----+------------+---------+-----+------+---+---------+------+\n",
            "\n"
          ]
        }
      ]
    },
    {
      "cell_type": "code",
      "source": [
        "# let's make sure page column doesn't have nulls ( as we'll define churn on 'page' column). Do for userId too.\n",
        "df_nulls.select('userId', 'page').show()"
      ],
      "metadata": {
        "colab": {
          "base_uri": "https://localhost:8080/"
        },
        "id": "Nnjar7C8PBTd",
        "outputId": "8cb588a7-621f-4fe8-e7d2-f4a576e85240"
      },
      "execution_count": 95,
      "outputs": [
        {
          "output_type": "stream",
          "name": "stdout",
          "text": [
            "+------+----+\n",
            "|userId|page|\n",
            "+------+----+\n",
            "|     0|   0|\n",
            "+------+----+\n",
            "\n"
          ]
        }
      ]
    },
    {
      "cell_type": "markdown",
      "source": [
        "**Levels**"
      ],
      "metadata": {
        "id": "R1Phc0jIDQHC"
      }
    },
    {
      "cell_type": "code",
      "source": [
        "df.select('level').distinct().show()"
      ],
      "metadata": {
        "colab": {
          "base_uri": "https://localhost:8080/"
        },
        "id": "_uaRQR_KPIZ7",
        "outputId": "7173890c-b2f6-438b-fe3c-e7ce7a37ffeb"
      },
      "execution_count": 96,
      "outputs": [
        {
          "output_type": "stream",
          "name": "stdout",
          "text": [
            "+-----+\n",
            "|level|\n",
            "+-----+\n",
            "| free|\n",
            "| paid|\n",
            "+-----+\n",
            "\n"
          ]
        }
      ]
    },
    {
      "cell_type": "markdown",
      "source": [
        "**Value counts of level**"
      ],
      "metadata": {
        "id": "1DjmpKwtDVU-"
      }
    },
    {
      "cell_type": "code",
      "source": [
        "level_counts= df.groupby('level').agg({'level':'count'}).withColumnRenamed(\"count(level)\", \"level_count\")\n",
        "level_counts.show()"
      ],
      "metadata": {
        "colab": {
          "base_uri": "https://localhost:8080/"
        },
        "id": "_XZ_NbG1PJrP",
        "outputId": "aba8a20c-9957-493e-d4f3-b9fd496a5e64"
      },
      "execution_count": 97,
      "outputs": [
        {
          "output_type": "stream",
          "name": "stdout",
          "text": [
            "+-----+-----------+\n",
            "|level|level_count|\n",
            "+-----+-----------+\n",
            "| free|      58338|\n",
            "| paid|     228162|\n",
            "+-----+-----------+\n",
            "\n"
          ]
        }
      ]
    },
    {
      "cell_type": "markdown",
      "source": [
        "**Distint value of  page**"
      ],
      "metadata": {
        "id": "FWCjzByaDXNX"
      }
    },
    {
      "cell_type": "code",
      "source": [
        "df.select('page').distinct().show()"
      ],
      "metadata": {
        "colab": {
          "base_uri": "https://localhost:8080/"
        },
        "id": "yKm-s0wxPL9X",
        "outputId": "a66f08b9-b618-4b7e-8eca-c36537c8a55b"
      },
      "execution_count": 98,
      "outputs": [
        {
          "output_type": "stream",
          "name": "stdout",
          "text": [
            "+--------------------+\n",
            "|                page|\n",
            "+--------------------+\n",
            "|              Cancel|\n",
            "|    Submit Downgrade|\n",
            "|         Thumbs Down|\n",
            "|                Home|\n",
            "|           Downgrade|\n",
            "|         Roll Advert|\n",
            "|              Logout|\n",
            "|       Save Settings|\n",
            "|Cancellation Conf...|\n",
            "|               About|\n",
            "| Submit Registration|\n",
            "|            Settings|\n",
            "|               Login|\n",
            "|            Register|\n",
            "|     Add to Playlist|\n",
            "|          Add Friend|\n",
            "|            NextSong|\n",
            "|           Thumbs Up|\n",
            "|                Help|\n",
            "|             Upgrade|\n",
            "+--------------------+\n",
            "only showing top 20 rows\n",
            "\n"
          ]
        }
      ]
    },
    {
      "cell_type": "code",
      "source": [
        "churn_event = df.groupby('userId').agg(psqf.collect_list('page').alias('pages'))\n",
        "# define 1 as churned, 0 otherwise\n",
        "churn_f = psqf.udf(lambda x: 1 if 'Cancel' in set(x) else 0)\n",
        "churn_event = churn_event.withColumn(\"label\", churn_f(churn_event.pages)).drop('pages')"
      ],
      "metadata": {
        "id": "XTwJFgEbPSOh"
      },
      "execution_count": 99,
      "outputs": []
    },
    {
      "cell_type": "code",
      "source": [
        "churn_event.show(2)"
      ],
      "metadata": {
        "colab": {
          "base_uri": "https://localhost:8080/"
        },
        "id": "PLni4zp0PT9B",
        "outputId": "8a565110-e152-4cf4-b845-de324f7f9465"
      },
      "execution_count": 100,
      "outputs": [
        {
          "output_type": "stream",
          "name": "stdout",
          "text": [
            "+------+-----+\n",
            "|userId|label|\n",
            "+------+-----+\n",
            "|100010|    0|\n",
            "|200002|    0|\n",
            "+------+-----+\n",
            "only showing top 2 rows\n",
            "\n"
          ]
        }
      ]
    },
    {
      "cell_type": "markdown",
      "source": [
        "**Exploratory Data Analysis**"
      ],
      "metadata": {
        "id": "zwvfl8EEDjY4"
      }
    },
    {
      "cell_type": "markdown",
      "source": [
        "**count comparison of customers churned-level**"
      ],
      "metadata": {
        "id": "Lf1tQnbsEArL"
      }
    },
    {
      "cell_type": "code",
      "source": [
        "use_level_count = labeled_df.groupby('userId', 'level', 'label').count()\n",
        "use_level_count_pd  = use_level_count.select(\"userId\", \"level\", 'label').toPandas()\n",
        "use_level_count_pd[['level', 'label']].groupby(['level', 'label']).agg({'label':'count'}).unstack().plot(kind='bar');\n",
        "plt.title('churned-level customer count comparison')\n",
        "plt.ylabel('customer count');"
      ],
      "metadata": {
        "colab": {
          "base_uri": "https://localhost:8080/",
          "height": 307
        },
        "id": "fHwqlgVOPaxU",
        "outputId": "ed446407-4e2f-4e94-d583-22256beeaf00"
      },
      "execution_count": 68,
      "outputs": [
        {
          "output_type": "display_data",
          "data": {
            "text/plain": [
              "<Figure size 432x288 with 1 Axes>"
            ],
            "image/png": "[encoded data removed]"
          },
          "metadata": {
            "needs_background": "light"
          }
        }
      ]
    },
    {
      "cell_type": "markdown",
      "source": [
        "**Churned vs active customer count**"
      ],
      "metadata": {
        "id": "7R3isJYQESsu"
      }
    },
    {
      "cell_type": "code",
      "source": [
        "use_level_count_pd.label.value_counts().plot(kind='bar');\n",
        "plt.ylabel('User count')\n",
        "plt.xlabel('label')\n",
        "plt.title('Churned vs active customer count');"
      ],
      "metadata": {
        "colab": {
          "base_uri": "https://localhost:8080/",
          "height": 292
        },
        "id": "yYIsvkMZPe4i",
        "outputId": "b6e3c55f-e056-430c-9cbf-d1bdc5176f2d"
      },
      "execution_count": 70,
      "outputs": [
        {
          "output_type": "display_data",
          "data": {
            "text/plain": [
              "<Figure size 432x288 with 1 Axes>"
            ],
            "image/png": "[encoded data removed]"
          },
          "metadata": {
            "needs_background": "light"
          }
        }
      ]
    },
    {
      "cell_type": "markdown",
      "source": [
        "**Label distribution**"
      ],
      "metadata": {
        "id": "dT2hNT4DEWLV"
      }
    },
    {
      "cell_type": "code",
      "source": [
        "labeled_df.groupBy('userId','label','gender').count().select('label', 'gender').groupBy('label','gender').count().show()"
      ],
      "metadata": {
        "colab": {
          "base_uri": "https://localhost:8080/"
        },
        "id": "2wloLEikPhEG",
        "outputId": "b0a0a227-760d-41bd-d2f0-28a566cef9c6"
      },
      "execution_count": 71,
      "outputs": [
        {
          "output_type": "stream",
          "name": "stdout",
          "text": [
            "+-----+------+-----+\n",
            "|label|gender|count|\n",
            "+-----+------+-----+\n",
            "|    0|     M|   89|\n",
            "|    0|  null|    1|\n",
            "|    1|     M|   32|\n",
            "|    0|     F|   84|\n",
            "|    1|     F|   20|\n",
            "+-----+------+-----+\n",
            "\n"
          ]
        }
      ]
    },
    {
      "cell_type": "markdown",
      "source": [
        "**Number of songs each user played**"
      ],
      "metadata": {
        "id": "MSrXAY7dFcLl"
      }
    },
    {
      "cell_type": "code",
      "source": [
        "songsplayed = labeled_df.where(psqf.col('song')!='null').groupby(\"userId\").agg(psqf.count(psqf.col('song')).alias('SongsPlayed')).orderBy('userId')\n",
        "songsplayed.show(5)"
      ],
      "metadata": {
        "colab": {
          "base_uri": "https://localhost:8080/"
        },
        "id": "8J7ouFIPPpPo",
        "outputId": "eafd7dd6-4f1b-4571-e592-02ee6bf83948"
      },
      "execution_count": 72,
      "outputs": [
        {
          "output_type": "stream",
          "name": "stdout",
          "text": [
            "+------+-----------+\n",
            "|userId|SongsPlayed|\n",
            "+------+-----------+\n",
            "|    10|        673|\n",
            "|   100|       2682|\n",
            "|100001|        133|\n",
            "|100002|        195|\n",
            "|100003|         51|\n",
            "+------+-----------+\n",
            "only showing top 5 rows\n",
            "\n"
          ]
        }
      ]
    },
    {
      "cell_type": "markdown",
      "source": [
        "**Number of distinct hour counts  a user logged in the system**"
      ],
      "metadata": {
        "id": "hzD6uWmrFoIW"
      }
    },
    {
      "cell_type": "code",
      "source": [
        "hours_udf = psqf.udf(lambda x: datetime.datetime.utcfromtimestamp(x/1000.0).strftime('%Y-%m-%d-%H'))\n",
        "hours_df  = labeled_df.select('userId', 'ts').withColumn('hour', hours_udf(psqf.col('ts')))\n",
        "hours_df.show(5)"
      ],
      "metadata": {
        "colab": {
          "base_uri": "https://localhost:8080/"
        },
        "id": "0MRiFAD9Pp5E",
        "outputId": "f2a4a3b8-3d91-429f-bfe9-1e42cb74e9e5"
      },
      "execution_count": 73,
      "outputs": [
        {
          "output_type": "stream",
          "name": "stdout",
          "text": [
            "+------+-------------+-------------+\n",
            "|userId|           ts|         hour|\n",
            "+------+-------------+-------------+\n",
            "|100010|1539003534000|2018-10-08-12|\n",
            "|100010|1539003736000|2018-10-08-13|\n",
            "|100010|1539003932000|2018-10-08-13|\n",
            "|100010|1539003933000|2018-10-08-13|\n",
            "|100010|1539004195000|2018-10-08-13|\n",
            "+------+-------------+-------------+\n",
            "only showing top 5 rows\n",
            "\n"
          ]
        }
      ]
    },
    {
      "cell_type": "code",
      "source": [
        "hour_count_df = hours_df.where(psqf.col('userId')!='null').groupby('userId').agg((psqf.countDistinct(psqf.col('hour'))).alias(\"HourCount\")).orderBy('userId')\n",
        "hour_count_df.show(5)"
      ],
      "metadata": {
        "colab": {
          "base_uri": "https://localhost:8080/"
        },
        "id": "7YgvXRhJPrkM",
        "outputId": "a3676fa8-5dd9-45d0-b6de-81d25e78d717"
      },
      "execution_count": 74,
      "outputs": [
        {
          "output_type": "stream",
          "name": "stdout",
          "text": [
            "+------+---------+\n",
            "|userId|HourCount|\n",
            "+------+---------+\n",
            "|      |     1306|\n",
            "|    10|       51|\n",
            "|   100|      218|\n",
            "|100001|       14|\n",
            "|100002|       18|\n",
            "+------+---------+\n",
            "only showing top 5 rows\n",
            "\n"
          ]
        }
      ]
    },
    {
      "cell_type": "markdown",
      "source": [
        "**Filter rows where user-id is missing**"
      ],
      "metadata": {
        "id": "a31UmBuRFzG5"
      }
    },
    {
      "cell_type": "code",
      "source": [
        "# filter out rows with userId == null\n",
        "labeled_df = labeled_df.where(psqf.col('userId')!='null')\n",
        "labeled_df.show(5)"
      ],
      "metadata": {
        "colab": {
          "base_uri": "https://localhost:8080/"
        },
        "id": "zBj55K_rRmQE",
        "outputId": "abd79749-073e-43aa-aa9f-781ec77ce82c"
      },
      "execution_count": 75,
      "outputs": [
        {
          "output_type": "stream",
          "name": "stdout",
          "text": [
            "+------+-----+--------------------+---------+---------+------+-------------+---------+---------+-----+--------------------+------+---------+-------------+---------+--------------------+------+-------------+--------------------+\n",
            "|userId|label|              artist|     auth|firstName|gender|itemInSession| lastName|   length|level|            location|method|     page| registration|sessionId|                song|status|           ts|           userAgent|\n",
            "+------+-----+--------------------+---------+---------+------+-------------+---------+---------+-----+--------------------+------+---------+-------------+---------+--------------------+------+-------------+--------------------+\n",
            "|100010|    0|Sleeping With Sirens|Logged In| Darianna|     F|            0|Carpenter|202.97098| free|Bridgeport-Stamfo...|   PUT| NextSong|1538016340000|       31|Captain Tyin Knot...|   200|1539003534000|\"Mozilla/5.0 (iPh...|\n",
            "|100010|    0|Francesca Battist...|Logged In| Darianna|     F|            1|Carpenter|196.54485| free|Bridgeport-Stamfo...|   PUT| NextSong|1538016340000|       31|Beautiful_ Beauti...|   200|1539003736000|\"Mozilla/5.0 (iPh...|\n",
            "|100010|    0|              Brutha|Logged In| Darianna|     F|            2|Carpenter|263.13098| free|Bridgeport-Stamfo...|   PUT| NextSong|1538016340000|       31|          She's Gone|   200|1539003932000|\"Mozilla/5.0 (iPh...|\n",
            "|100010|    0|                null|Logged In| Darianna|     F|            3|Carpenter|     null| free|Bridgeport-Stamfo...|   PUT|Thumbs Up|1538016340000|       31|                null|   307|1539003933000|\"Mozilla/5.0 (iPh...|\n",
            "|100010|    0|         Josh Ritter|Logged In| Darianna|     F|            4|Carpenter|316.23791| free|Bridgeport-Stamfo...|   PUT| NextSong|1538016340000|       31|      Folk Bloodbath|   200|1539004195000|\"Mozilla/5.0 (iPh...|\n",
            "+------+-----+--------------------+---------+---------+------+-------------+---------+---------+-----+--------------------+------+---------+-------------+---------+--------------------+------+-------------+--------------------+\n",
            "only showing top 5 rows\n",
            "\n"
          ]
        }
      ]
    },
    {
      "cell_type": "code",
      "source": [
        "thumbsup_count = labeled_df.where((psqf.col('page')=='Thumbs Up') &(psqf.col('userId')!='null')).groupby(\"userId\").agg(psqf.count(psqf.col('page')).alias('thumbsUpCount')).orderBy('userId')\n",
        "thumbsup_count.show(5, False)"
      ],
      "metadata": {
        "colab": {
          "base_uri": "https://localhost:8080/"
        },
        "id": "PFlPqyCbRshr",
        "outputId": "9c167131-6787-4a1f-a252-bd8760662a69"
      },
      "execution_count": 76,
      "outputs": [
        {
          "output_type": "stream",
          "name": "stdout",
          "text": [
            "+------+-------------+\n",
            "|userId|thumbsUpCount|\n",
            "+------+-------------+\n",
            "|10    |37           |\n",
            "|100   |148          |\n",
            "|100001|8            |\n",
            "|100002|5            |\n",
            "|100003|3            |\n",
            "+------+-------------+\n",
            "only showing top 5 rows\n",
            "\n"
          ]
        }
      ]
    },
    {
      "cell_type": "code",
      "source": [
        "thumbsdown_count = labeled_df.where((psqf.col(\"page\")=='Thumbs Down')&(psqf.col('userId')!='null')).groupby(\"userId\").agg(psqf.count(psqf.col('page')).alias('thumbsDownCount')).orderBy('userId')\n",
        "thumbsdown_count.show(5)"
      ],
      "metadata": {
        "colab": {
          "base_uri": "https://localhost:8080/"
        },
        "id": "OlUZ2xD9RufB",
        "outputId": "f0f6dc9a-76a1-42fb-f295-a064479ba1d4"
      },
      "execution_count": 77,
      "outputs": [
        {
          "output_type": "stream",
          "name": "stdout",
          "text": [
            "+------+---------------+\n",
            "|userId|thumbsDownCount|\n",
            "+------+---------------+\n",
            "|    10|              4|\n",
            "|   100|             27|\n",
            "|100001|              2|\n",
            "|100004|             11|\n",
            "|100005|              3|\n",
            "+------+---------------+\n",
            "only showing top 5 rows\n",
            "\n"
          ]
        }
      ]
    },
    {
      "cell_type": "markdown",
      "source": [
        "# **Feature engineering**"
      ],
      "metadata": {
        "id": "NjzFFS-JE82A"
      }
    },
    {
      "cell_type": "markdown",
      "source": [
        "**Merge all features using vector assembler**"
      ],
      "metadata": {
        "id": "ObkFaI36EgpC"
      }
    },
    {
      "cell_type": "code",
      "source": [
        "## Join all the features\n",
        "features_df = churn_event.join(songsplayed, \"userId\").\\\n",
        "join(hour_count_df, \"userId\").join(thumbsup_count, \"userId\").join(thumbsdown_count, \"userId\")"
      ],
      "metadata": {
        "id": "qj3zvKw0Rwig"
      },
      "execution_count": 78,
      "outputs": []
    },
    {
      "cell_type": "code",
      "source": [
        "features_df.show(5)"
      ],
      "metadata": {
        "colab": {
          "base_uri": "https://localhost:8080/"
        },
        "id": "QOs-24AHRz5N",
        "outputId": "1420672e-d8b6-4289-e094-a6e51e895e47"
      },
      "execution_count": 79,
      "outputs": [
        {
          "output_type": "stream",
          "name": "stdout",
          "text": [
            "+------+-----+-----------+---------+-------------+---------------+\n",
            "|userId|label|SongsPlayed|HourCount|thumbsUpCount|thumbsDownCount|\n",
            "+------+-----+-----------+---------+-------------+---------------+\n",
            "|100010|    0|        275|       26|           17|              5|\n",
            "|200002|    0|        387|       32|           21|              6|\n",
            "|   124|    0|       4079|      306|          171|             41|\n",
            "|    51|    1|       2111|      156|          100|             21|\n",
            "|     7|    0|        150|       18|            7|              1|\n",
            "+------+-----+-----------+---------+-------------+---------------+\n",
            "only showing top 5 rows\n",
            "\n"
          ]
        }
      ]
    },
    {
      "cell_type": "markdown",
      "source": [
        "**Vector Assembler**"
      ],
      "metadata": {
        "id": "zezktphwFWQW"
      }
    },
    {
      "cell_type": "code",
      "source": [
        "assembler = VectorAssembler(inputCols=[\"SongsPlayed\", \"HourCount\", \"thumbsUpCount\", \"thumbsDownCount\"], outputCol=\"rawFeatures\")\n",
        "features_df = assembler.transform(features_df)\n",
        "features_df.select('label', 'rawFeatures').show(4)"
      ],
      "metadata": {
        "colab": {
          "base_uri": "https://localhost:8080/"
        },
        "id": "EE4pfZCnP4ms",
        "outputId": "6e421e57-6fa8-4d8b-dc9b-d0d22f9d9194"
      },
      "execution_count": 80,
      "outputs": [
        {
          "output_type": "stream",
          "name": "stdout",
          "text": [
            "+-----+--------------------+\n",
            "|label|         rawFeatures|\n",
            "+-----+--------------------+\n",
            "|    0|[275.0,26.0,17.0,...|\n",
            "|    0|[387.0,32.0,21.0,...|\n",
            "|    0|[4079.0,306.0,171...|\n",
            "|    1|[2111.0,156.0,100...|\n",
            "+-----+--------------------+\n",
            "only showing top 4 rows\n",
            "\n"
          ]
        }
      ]
    },
    {
      "cell_type": "markdown",
      "source": [
        "**Feature scaling**"
      ],
      "metadata": {
        "id": "Rcz_LylLEpOj"
      }
    },
    {
      "cell_type": "code",
      "source": [
        "scaler = StandardScaler(inputCol=\"rawFeatures\", outputCol=\"features\", withStd=True)\n",
        "scalerModel = scaler.fit(features_df)\n",
        "features_df = scalerModel.transform(features_df)"
      ],
      "metadata": {
        "id": "8JmoHDz3P5NL"
      },
      "execution_count": 81,
      "outputs": []
    },
    {
      "cell_type": "code",
      "source": [
        "input_data = features_df.withColumn('label', psqf.col('label').cast(psqt.IntegerType())).select('label', 'features')\n",
        "input_data.show(2)"
      ],
      "metadata": {
        "colab": {
          "base_uri": "https://localhost:8080/"
        },
        "id": "NH-3FQe4P9Bh",
        "outputId": "74fbcdf0-469c-4192-9027-0209b5cd09a1"
      },
      "execution_count": 82,
      "outputs": [
        {
          "output_type": "stream",
          "name": "stdout",
          "text": [
            "+-----+--------------------+\n",
            "|label|            features|\n",
            "+-----+--------------------+\n",
            "|    0|[0.24639992057147...|\n",
            "|    0|[0.34675188822240...|\n",
            "+-----+--------------------+\n",
            "only showing top 2 rows\n",
            "\n"
          ]
        }
      ]
    },
    {
      "cell_type": "markdown",
      "source": [
        "**Handle categorical features**"
      ],
      "metadata": {
        "id": "OhMEYhB1P_MM"
      }
    },
    {
      "cell_type": "code",
      "source": [
        "# Index labels, adding metadata to the label column.\n",
        "# Fit on whole dataset to include all labels in index.\n",
        "labelIndexer = StringIndexer(inputCol=\"label\", outputCol=\"indexedLabel\").fit(input_data)"
      ],
      "metadata": {
        "id": "6Ekzj9vuP_Zq"
      },
      "execution_count": 83,
      "outputs": []
    },
    {
      "cell_type": "code",
      "source": [
        "# Automatically identify categorical features, and index them.\n",
        "# Set maxCategories so features with > 4 distinct values are treated as continuous.\n",
        "featureIndexer =\\\n",
        "    VectorIndexer(inputCol=\"features\", outputCol=\"indexedFeatures\", maxCategories=4).fit(input_data)"
      ],
      "metadata": {
        "id": "5QW0R5zMQDDt"
      },
      "execution_count": 84,
      "outputs": []
    },
    {
      "cell_type": "markdown",
      "source": [
        "#**Modeling**"
      ],
      "metadata": {
        "id": "Yath4zJ_E4s9"
      }
    },
    {
      "cell_type": "markdown",
      "source": [
        "**Train test splitting**"
      ],
      "metadata": {
        "id": "Q-JcP9u7Exja"
      }
    },
    {
      "cell_type": "code",
      "source": [
        "# Split the data into training and test sets (since dataset is imbalanced)\n",
        "(trainingData, tempData) = input_data.randomSplit([0.6, 0.4])\n",
        "(validationData, testData) = tempData.randomSplit([0.5, 0.5])"
      ],
      "metadata": {
        "id": "IyXsofS8QF70"
      },
      "execution_count": 85,
      "outputs": []
    },
    {
      "cell_type": "markdown",
      "source": [
        "**Random Forest**"
      ],
      "metadata": {
        "id": "Ne9q9IYeFCk7"
      }
    },
    {
      "cell_type": "code",
      "source": [
        "# Train a RandomForest model.\n",
        "rf = RandomForestClassifier(labelCol=\"indexedLabel\", featuresCol=\"indexedFeatures\", numTrees=10)\n",
        "# Convert indexed labels back to original labels.\n",
        "labelConverter = IndexToString(inputCol=\"prediction\", outputCol=\"predictedLabel\",\n",
        "                               labels=labelIndexer.labels)\n",
        "# Chain indexers and forest in a Pipeline\n",
        "pipeline = Pipeline(stages=[labelIndexer, featureIndexer, rf, labelConverter])"
      ],
      "metadata": {
        "id": "ZJSpg4aiQHA6"
      },
      "execution_count": 86,
      "outputs": []
    },
    {
      "cell_type": "markdown",
      "source": [
        "**Training  of Random Forest**"
      ],
      "metadata": {
        "id": "08Oov593FGwk"
      }
    },
    {
      "cell_type": "code",
      "source": [
        "# Train model.  This also runs the indexers.\n",
        "model = pipeline.fit(trainingData)"
      ],
      "metadata": {
        "id": "SuOxcDNpQLCv"
      },
      "execution_count": 87,
      "outputs": []
    },
    {
      "cell_type": "markdown",
      "source": [
        "**Prediction of random forest**"
      ],
      "metadata": {
        "id": "UINizuNlFKv1"
      }
    },
    {
      "cell_type": "code",
      "source": [
        "# Make predictions.\n",
        "predictions = model.transform(validationData)\n",
        "\n",
        "# Select example rows to display.\n",
        "predictions.select(\"predictedLabel\", \"label\", \"features\").show(5)\n",
        "\n",
        "# Select (prediction, true label) and compute test error\n",
        "evaluator = MulticlassClassificationEvaluator(\n",
        "    labelCol=\"indexedLabel\", predictionCol=\"prediction\", metricName=\"accuracy\")\n",
        "accuracy = evaluator.evaluate(predictions)\n",
        "print(\"Validation Error = %g\" % (1.0 - accuracy))\n",
        "\n",
        "rfModel = model.stages[2]\n",
        "print(rfModel)  # summary only"
      ],
      "metadata": {
        "colab": {
          "base_uri": "https://localhost:8080/"
        },
        "id": "L8dezXUuQMzA",
        "outputId": "e9b47253-b14b-4211-8fa2-4c2961c8a42a"
      },
      "execution_count": 88,
      "outputs": [
        {
          "output_type": "stream",
          "name": "stdout",
          "text": [
            "+--------------+-----+--------------------+\n",
            "|predictedLabel|label|            features|\n",
            "+--------------+-----+--------------------+\n",
            "|             0|    1|[1.89145539027778...|\n",
            "|             0|    0|[1.85471940211985...|\n",
            "|             0|    1|[2.71308712541977...|\n",
            "|             0|    1|[0.19174393819016...|\n",
            "|             0|    0|[1.42015954220288...|\n",
            "+--------------+-----+--------------------+\n",
            "only showing top 5 rows\n",
            "\n",
            "Validation Error = 0.27907\n",
            "RandomForestClassificationModel: uid=RandomForestClassifier_15307a79be29, numTrees=10, numClasses=2, numFeatures=4\n"
          ]
        }
      ]
    },
    {
      "cell_type": "markdown",
      "source": [
        "**Evaluate the performance of Random Forest**"
      ],
      "metadata": {
        "id": "dqFMOg5CFO3F"
      }
    },
    {
      "cell_type": "code",
      "source": [
        "f1_score_evaluator = MulticlassClassificationEvaluator(labelCol=\"indexedLabel\", predictionCol=\"prediction\",metricName='f1')\n",
        "f1_score = f1_score_evaluator.evaluate(predictions)\n",
        "print(\"F1 score = %g\" % (f1_score))"
      ],
      "metadata": {
        "colab": {
          "base_uri": "https://localhost:8080/"
        },
        "id": "Nrh7luH4QQpS",
        "outputId": "79482a5d-5b73-4649-b5dd-bee92dad0c9d"
      },
      "execution_count": 89,
      "outputs": [
        {
          "output_type": "stream",
          "name": "stdout",
          "text": [
            "F1 score = 0.672757\n"
          ]
        }
      ]
    }
  ],
  "metadata": {
    "kernelspec": {
      "display_name": "Python 3",
      "language": "python",
      "name": "python3"
    },
    "language_info": {
      "codemirror_mode": {
        "name": "ipython",
        "version": 3
      },
      "file_extension": ".py",
      "mimetype": "text/x-python",
      "name": "python",
      "nbconvert_exporter": "python",
      "pygments_lexer": "ipython3",
      "version": "3.6.4"
    },
    "colab": {
      "name": "Sparkify_done.ipynb",
      "provenance": []
    }
  },
  "nbformat": 4,
  "nbformat_minor": 0
}